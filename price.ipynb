{
 "cells": [
  {
   "cell_type": "markdown",
   "metadata": {},
   "source": [
    "В этом упражнении вы попытаетесь построить нейронную сеть, которая прогнозирует стоимость дома по простой формуле. Итак, представьте, что ценообразование на дом было таким простым, как если бы дом стоил 50 тыс. + 50 тыс. За спальню, так что дом с 1 спальней стоит 100 тыс., Дом с 2 спальнями стоит 150 тыс. Как бы вы создали нейронную сеть, которая изучает эту взаимосвязь, чтобы она предсказывала, что дом с 7 спальнями будет стоить около 400 тысяч и т. Д. Подсказка: ваша сеть может работать лучше, если вы снизите цену на дом. Вам не нужно давать ответ 400 ... может быть лучше создать что-то, что предсказывает число 4, и тогда ваш ответ будет в «сотнях тысяч» и т. Д.\n",
    "Как бы вы создали нейронную сеть, которая изучает эту взаимосвязь, чтобы она предсказывала, что дом с 7 спальнями будет стоить около 400 тысяч и т. Д. Подсказка: ваша сеть может работать лучше, если вы снизите цену на дом. Вам не нужно давать ответ 400 ... может быть лучше создать что-то, что предсказывает число 4, и тогда ваш ответ будет в «сотнях тысяч» и т. Д."
   ]
  },
  {
   "cell_type": "code",
   "execution_count": 18,
   "metadata": {},
   "outputs": [],
   "source": [
    "import tensorflow as tf\n",
    "import numpy as np\n",
    "from tensorflow import keras"
   ]
  },
  {
   "cell_type": "code",
   "execution_count": 19,
   "metadata": {},
   "outputs": [
    {
     "name": "stdout",
     "output_type": "stream",
     "text": [
      "2.3.0\n"
     ]
    }
   ],
   "source": [
    "print(tf.__version__)"
   ]
  },
  {
   "cell_type": "code",
   "execution_count": 30,
   "metadata": {},
   "outputs": [],
   "source": [
    "# GRADED FUNCTION: house_model\n",
    "def house_model(y_new):\n",
    "    \n",
    "    xs = np.array([1, 2, 3], dtype=int)\n",
    "    ys = np.array([1.0, 1.5, 2.0], dtype=float)  #в количестве сотен\n",
    "    \n",
    "    \n",
    "    model = tf.keras.Sequential([keras.layers.Dense(units=1, input_shape=[1])])\n",
    "    \n",
    "    model.compile(optimizer = 'sgd', loss = 'mean_squared_error')\n",
    "    model.fit(xs, ys, epochs = 2000)\n",
    "    return model.predict(y_new)[0]\n",
    "    "
   ]
  },
  {
   "cell_type": "code",
   "execution_count": null,
   "metadata": {},
   "outputs": [],
   "source": [
    "prediction = house_model([7.0])\n",
    "print(prediction * 100)\n",
    "\n",
    "#prediction = model.predict([7.0])\n",
    "#print(prediction * 100)\n",
    "\n",
    "# [400.99005]\n",
    "#loss: 3.2837e-06  "
   ]
  },
  {
   "cell_type": "code",
   "execution_count": 17,
   "metadata": {},
   "outputs": [
    {
     "data": {
      "application/javascript": [
       "<!-- Save the notebook -->\n",
       "IPython.notebook.save_checkpoint();\n"
      ],
      "text/plain": [
       "<IPython.core.display.Javascript object>"
      ]
     },
     "metadata": {},
     "output_type": "display_data"
    }
   ],
   "source": [
    "%%javascript\n",
    "<!-- Save the notebook -->\n",
    "IPython.notebook.save_checkpoint();"
   ]
  },
  {
   "cell_type": "code",
   "execution_count": null,
   "metadata": {},
   "outputs": [],
   "source": [
    "import tensorflow as tf\n",
    "import numpy as np\n",
    "from tensorflow import keras\n",
    "model = tf.keras.Sequential([keras.layers.Dense(units=1, input_shape=[1])])\n",
    "\n",
    "#model.compile(# Your Code Here#)\n",
    "model.compile(optimizer = 'sgd', loss = 'mean_squared_error')\n",
    "\n",
    "xs = np.array([1, 2, 3, 4, 5 ], dtype=int)\n",
    "ys = np.array([1.0, 1.5, 2.0, 2.5, 3.0], dtype=float)  #в количестве сотен\n",
    "\n",
    "model.fit(xs, ys, epochs = 5000)\n",
    "#print(model.predict([7.0]))\n",
    "prediction = model.predict([7.0])\n",
    "print(prediction * 100)\n",
    "\n",
    "#[[400.0006]]\n",
    "#loss: 6.8582e-12"
   ]
  },
  {
   "cell_type": "code",
   "execution_count": null,
   "metadata": {},
   "outputs": [],
   "source": []
  }
 ],
 "metadata": {
  "kernelspec": {
   "display_name": "Python 3",
   "language": "python",
   "name": "python3"
  },
  "language_info": {
   "codemirror_mode": {
    "name": "ipython",
    "version": 3
   },
   "file_extension": ".py",
   "mimetype": "text/x-python",
   "name": "python",
   "nbconvert_exporter": "python",
   "pygments_lexer": "ipython3",
   "version": "3.7.6"
  }
 },
 "nbformat": 4,
 "nbformat_minor": 4
}
