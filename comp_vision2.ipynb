{
 "cells": [
  {
   "cell_type": "code",
   "execution_count": null,
   "metadata": {},
   "outputs": [],
   "source": [
    "import tensorflow as tf\n",
    "print(tf.__version__)\n",
    "\n",
    "mnist = tf.keras.datasets.mnist\n",
    "\n",
    "(training_images, training_labels) ,  (test_images, test_labels) = mnist.load_data()\n",
    "\n",
    "training_images = training_images/255.0\n",
    "test_images = test_images/255.0\n",
    "\n",
    "model = tf.keras.models.Sequential([tf.keras.layers.Flatten(),\n",
    "                                    tf.keras.layers.Dense(128, activation=tf.nn.relu),\n",
    "                                    tf.keras.layers.Dense(10, activation=tf.nn.softmax)])\n",
    "\n",
    "model.compile(optimizer = 'adam',\n",
    "              loss = 'sparse_categorical_crossentropy')\n",
    "\n",
    "model.fit(training_images, training_labels, epochs=15)\n",
    "\n",
    "model.evaluate(test_images, test_labels)\n",
    "\n",
    "classifications = model.predict(test_images)\n",
    "\n",
    "print(classifications[34])\n",
    "print(test_labels[34])"
   ]
  },
  {
   "cell_type": "code",
   "execution_count": null,
   "metadata": {},
   "outputs": [],
   "source": [
    "print(\"classifications[0] - \", classifications[0])\n",
    "print(\"test_labels[0] - \", test_labels[0])"
   ]
  },
  {
   "cell_type": "markdown",
   "metadata": {},
   "source": [
    "добавляя больше нейронов, мы должны делать больше вычислений, замедляя процесс, но в этом случае они имеют хорошее влияние - мы становимся более точными. Это не значит, что всегда есть вариант «чем больше, тем лучше», вы можете очень быстро попасть в закон убывающей отдачи!"
   ]
  },
  {
   "cell_type": "markdown",
   "metadata": {},
   "source": [
    "Рассмотрим финальные (выходные) слои. Почему их 10? Что бы произошло, если бы у вас была сумма, отличная от 10? Например, попробуйте обучить сеть с 5\n",
    "Вы получите сообщение об ошибке, как только найдете неожиданное значение. Еще одно практическое правило - количество нейронов в последнем слое должно соответствовать количеству классов, по которым вы классифицируете. В данном случае это цифры 0-9, поэтому их 10, следовательно, у вас должно быть 10 нейронов на последнем слое.\n",
    "********************* \n",
    "Попробуйте 15 эпох - вы, вероятно, получите модель с гораздо лучшими потерями, чем модель с 5 эпохами Попробуйте 30 - вы можете увидеть, что значение потерь перестает уменьшаться, а иногда и увеличивается. Это побочный эффект так называемого «переобучения», о котором вы можете узнать [где-то], и это то, на что вам нужно обращать внимание при обучении нейронных сетей. Нет смысла тратить время на тренировки, если вы не улучшаете свои потери, верно! :)"
   ]
  },
  {
   "cell_type": "code",
   "execution_count": null,
   "metadata": {},
   "outputs": [],
   "source": []
  }
 ],
 "metadata": {
  "kernelspec": {
   "display_name": "Python 3",
   "language": "python",
   "name": "python3"
  },
  "language_info": {
   "codemirror_mode": {
    "name": "ipython",
    "version": 3
   },
   "file_extension": ".py",
   "mimetype": "text/x-python",
   "name": "python",
   "nbconvert_exporter": "python",
   "pygments_lexer": "ipython3",
   "version": "3.7.6"
  }
 },
 "nbformat": 4,
 "nbformat_minor": 4
}
